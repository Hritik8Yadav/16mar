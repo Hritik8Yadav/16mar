{
 "cells": [
  {
   "cell_type": "code",
   "execution_count": null,
   "id": "3d649a78-78c1-49b1-b4e8-d3bed0d2023e",
   "metadata": {},
   "outputs": [],
   "source": [
    "'''Ans1: Overfitting: It is the condition in any model training where the model performs very well on the training \n",
    "                        data but failed to performed on the new data provided to it this codition leads to the \n",
    "                        overfitting. In this condition the model become biased on the training data.\n",
    "                        \n",
    "        Underfitting: It is the condition in any model training where the model performs bad on both the training \n",
    "                        as well as the new data provided to it. In this codition the model is undertrained due to \n",
    "                        any reason such as the lack of training data etc.\n",
    "'''"
   ]
  },
  {
   "cell_type": "code",
   "execution_count": null,
   "id": "c7682d5e-f4d8-42e4-a679-0fc57a2f4635",
   "metadata": {},
   "outputs": [],
   "source": [
    "'''Ans2: The methods to avoid overfitting are: \n",
    "            \n",
    "            i. feature selection: In this technique the relevant features from the datasets is selected which helps\n",
    "                                    to avoid the irrelevant features from the dataset and training only on the required\n",
    "                                    data.\n",
    "            ii. Use more training data: Having a larger dataset can help the model to learn more generalizable patterns\n",
    "                                        from the data and reduce the risk of overfitting.\n",
    "            iii. Simplify the model: A more complex model with a large number of parameters is more prone to overfitting. \n",
    "                                        Simplifying the model by reducing its complexity can help to avoid overfitting.\n",
    "'''"
   ]
  },
  {
   "cell_type": "code",
   "execution_count": null,
   "id": "a2c8f84c-fa56-4e45-99f9-9eee6c2290f3",
   "metadata": {},
   "outputs": [],
   "source": [
    "'''Ans3: Underfitting is the condition where the model performs bad in the prediction of the output in the result \n",
    "         of both the training and the new type of data. This is due to the low variance and high bias. \n",
    "         The various situation when underfitting can occurs are:\n",
    "             \n",
    "             i. insufficient training data\n",
    "             ii. very low complexity\n",
    "             iii. insufficient model training\n",
    "'''"
   ]
  },
  {
   "cell_type": "code",
   "execution_count": 6,
   "id": "6b3bfc3b-49d9-410f-a402-fb4bc97a1edc",
   "metadata": {},
   "outputs": [
    {
     "name": "stdin",
     "output_type": "stream",
     "text": [
      "Enter the number:  2435\n"
     ]
    },
    {
     "name": "stdout",
     "output_type": "stream",
     "text": [
      "2435  x  1  =  2435\n",
      "2435  x  2  =  4870\n",
      "2435  x  3  =  7305\n",
      "2435  x  4  =  9740\n",
      "2435  x  5  =  12175\n",
      "2435  x  6  =  14610\n",
      "2435  x  7  =  17045\n",
      "2435  x  8  =  19480\n",
      "2435  x  9  =  21915\n",
      "2435  x  10  =  24350\n"
     ]
    }
   ],
   "source": [
    "num=int(input(\"Enter the number: \"))\n",
    "for i in range(1,11):\n",
    "    print(num,\" x \", i,\" = \",i*num"
   ]
  },
  {
   "cell_type": "code",
   "execution_count": 11,
   "id": "b91d708e-ab74-4252-97a7-72ff2546a56a",
   "metadata": {},
   "outputs": [
    {
     "data": {
      "text/plain": [
       "101010.101010101"
      ]
     },
     "execution_count": 11,
     "metadata": {},
     "output_type": "execute_result"
    }
   ],
   "source": [
    "'''Ans4: bias-variance tradeoff is the term used for the defining the relation between the bias and variance, bias is\n",
    "         the error introduced by the real world problem and variance defines how much sensitive is a perticular model\n",
    "         to the training data.\n",
    "         The relationship between the bias and variance are:\n",
    "             \n",
    "             i. If the variance is high and bias is low then the model will perform good on training data but bad on \n",
    "                new data this type of model is generally known as the overfitted model.\n",
    "             ii. If the variance is low and bias is high then the model will perform bad on both training and new data\n",
    "                 this type of model is generally known as underfitted model.\n",
    "         \n",
    "'''"
   ]
  },
  {
   "cell_type": "code",
   "execution_count": 15,
   "id": "bc171721-e909-4b75-a70d-c46a02764516",
   "metadata": {},
   "outputs": [
    {
     "data": {
      "text/plain": [
       "467073.5971590288"
      ]
     },
     "execution_count": 15,
     "metadata": {},
     "output_type": "execute_result"
    }
   ],
   "source": [
    "'''Ans5: The some of methods used in detection of underfitting and overfitting are:\n",
    "            \n",
    "            i. Evaluation on a held-out validation set: One of the most common methods is to use a validation set, \n",
    "                                    which is a separate portion of the data that is not used during model training.\n",
    "            ii. Learning curves: Learning curves plot the model's performance (e.g., accuracy or loss) on the training \n",
    "                                set and the validation set as a function of the number of training iterations or epochs.\n",
    "            iii. Cross-validation: Cross-validation is a technique where the data is split into multiple folds, and the \n",
    "                                    model is trained and evaluated on different subsets of the data. \n",
    "                                    This helps in getting a more robust estimate of the model's performance.\n",
    "'''"
   ]
  },
  {
   "cell_type": "code",
   "execution_count": 16,
   "id": "58fe4c7a-2a86-4ceb-b751-b6002ec86388",
   "metadata": {},
   "outputs": [
    {
     "data": {
      "text/plain": [
       "'Ans6: Bias is the error which represents the difference in between the true and expected value in by a model.\\n         while the variance represents how much is spread of the value from its mean it represents the sensitivity of \\n         a model that has noise.\\n         The high bias leads to the more deviation from the true value which tends to the underfitting of the data.\\n         The high variance leads to the more spread of the data from the true value this tends to the overfitting of the data.\\n\\n'"
      ]
     },
     "execution_count": 16,
     "metadata": {},
     "output_type": "execute_result"
    }
   ],
   "source": [
    "'''Ans6: Bias is the error which represents the difference in between the true and expected value in by a model.\n",
    "         while the variance represents how much is spread of the value from its mean it represents the sensitivity of \n",
    "         a model that has noise.\n",
    "         The high bias leads to the more deviation from the true value which tends to the underfitting of the data.\n",
    "         The high variance leads to the more spread of the data from the true value this tends to the overfitting of the data.\n",
    "\n",
    "'''"
   ]
  },
  {
   "cell_type": "code",
   "execution_count": null,
   "id": "a656ebf3-2c90-4cb4-8efd-ff8d975dde50",
   "metadata": {},
   "outputs": [],
   "source": [
    "'''Ans7: Regularization is a technique used in machine learning to prevent overfitting, which is a phenomenon where \n",
    "         a model fits the training data too closely and does not generalize well to new, unseen data. Regularization \n",
    "         methods introduce additional constraints or penalties on the model's parameters during training to prevent \n",
    "         them from taking on extreme values, which can help reduce overfitting and improve the model's generalization \n",
    "         performance.\n",
    "         \n",
    "         some regularization techniques are:\n",
    "         \n",
    "             i. L1 Regularization (Lasso Regularization): This technique adds a penalty term to the loss function \n",
    "                             during training that is proportional to the absolute value of the model's parameters.\n",
    "             ii. L2 Regularization (Ridge Regularization): This technique adds a penalty term to the loss function \n",
    "                                     during training that is proportional to the square of the model's parameters.\n",
    "         \n",
    "'''"
   ]
  }
 ],
 "metadata": {
  "kernelspec": {
   "display_name": "Python 3 (ipykernel)",
   "language": "python",
   "name": "python3"
  },
  "language_info": {
   "codemirror_mode": {
    "name": "ipython",
    "version": 3
   },
   "file_extension": ".py",
   "mimetype": "text/x-python",
   "name": "python",
   "nbconvert_exporter": "python",
   "pygments_lexer": "ipython3",
   "version": "3.10.8"
  }
 },
 "nbformat": 4,
 "nbformat_minor": 5
}
